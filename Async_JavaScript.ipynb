{
  "nbformat": 4,
  "nbformat_minor": 0,
  "metadata": {
    "colab": {
      "provenance": []
    },
    "kernelspec": {
      "name": "python3",
      "display_name": "Python 3"
    },
    "language_info": {
      "name": "python"
    }
  },
  "cells": [
    {
      "cell_type": "code",
      "execution_count": null,
      "metadata": {
        "id": "_10f1AkE4dDx"
      },
      "outputs": [],
      "source": [
        "# Question 1 :  Demonstrate JavaScript's Single-Threaded Nature  Write an example to show that JavaScript is single-threaded by creating two competing tasks, one that blocks the event loop and another async function that waits for a promiseB\n",
        "\n",
        "-->function blockingTask(durationMs) {\n",
        "  const end = Date.now() + durationMs;\n",
        "  while (Date.now() < end) { /* busy wait */ }\n",
        "}\n",
        "\n",
        "console.log('Before blocking');\n",
        "\n",
        "setTimeout(() => {\n",
        "  console.log('Timeout callback');\n",
        "}, 0);\n",
        "\n",
        "Promise.resolve().then(() => {\n",
        "  console.log('Promise callback');\n",
        "});\n",
        "\n",
        "blockingTask(2000); // blocks the event loop for 2 seconds\n",
        "\n",
        "console.log('After blocking');\n",
        "Before blocking\n",
        "After blocking\n",
        "Promise callback\n",
        "Timeout callback\n"
      ]
    },
    {
      "cell_type": "code",
      "source": [
        "# Question 2 :  Why Does JavaScript Not Execute Asynchronously by Default JavaScript is often called synchronous and single-threaded, yet it handles asynchronous tasks like AJAX requests, timers, and event listenersB 5B Explain why JavaScript does not execute asynchronously by defaultB JB Write a code snippet to prove that JavaScript is inherently synchronousB\n",
        "\n",
        "--> JavaScript runs code synchronously in the order written. Asynchronous behavior (e.g., AJAX, setTimeout, event listeners) requires explicit APIs. The language itself is single-threaded, and asynchronous I/O is handed off to background processes (e.g. browser/Node.js internals). The event loop ensures that when I/O completes, its callback is queued back to the main thread—non-blocking but still single-threaded execution\n",
        "GeeksforGeeks\n",
        "DEV Community\n",
        ".\n",
        "\n",
        "Even async/await is built on promises: the awaiting function yields control back to the event loop and resumes later, not running concurrently with other JS code\n",
        "peerdh.com\n",
        "DEV Community\n",
        ".\n"
      ],
      "metadata": {
        "id": "6sJn4sjB48gE"
      },
      "execution_count": null,
      "outputs": []
    },
    {
      "cell_type": "code",
      "source": [
        "# Question 3 :haining Promises with setTimeout Modify the delay function to chain multiple promises so that three messages are logged in sequence with delays\n",
        "\n",
        "--> console.log('Start');\n",
        "\n",
        "setTimeout(() => {\n",
        "  console.log('Timer');\n",
        "}, 0);\n",
        "\n",
        "Promise.resolve().then(() => {\n",
        "  console.log('Promise');\n",
        "});\n",
        "\n",
        "console.log('End');\n",
        "\n",
        "output : Start\n",
        "End\n",
        "Promise\n",
        "Timer\n"
      ],
      "metadata": {
        "id": "CLFO4qbC5STL"
      },
      "execution_count": null,
      "outputs": []
    },
    {
      "cell_type": "code",
      "source": [
        "# Question 4 : What are the different states of a Promise, and how do they transition\u001b\n",
        "\n",
        "--> function delay(ms) {\n",
        "  return new Promise(resolve => setTimeout(resolve, ms));\n",
        "}\n",
        "\n",
        "delay(1000)\n",
        "  .then(() => {\n",
        "    console.log('First after 1s');\n",
        "    return delay(1000);\n",
        "  })\n",
        "  .then(() => {\n",
        "    console.log('Second after 2s');\n",
        "    return delay(1000);\n",
        "  })\n",
        "  .then(() => {\n",
        "    console.log('Third after 3s');\n",
        "  });\n"
      ],
      "metadata": {
        "id": "36b1Q4Te5cqb"
      },
      "execution_count": null,
      "outputs": []
    },
    {
      "cell_type": "code",
      "source": [
        "# Question 5 : How does the JavaScript event loop handle Promises differently from setTimeout?\n",
        "\n",
        "--> A JavaScript Promise has three states:\n",
        "\n",
        "Pending (initial)\n",
        "\n",
        "Fulfilled (resolved successfully)\n",
        "\n",
        "Rejected (error occurred)\n",
        "\n",
        "Transitions:\n",
        "\n",
        "Pending → Fulfilled or Rejected\n",
        "\n",
        "Once settled (Fulfilled or Rejected), it cannot change (immutable)\n",
        "DeepWiki\n",
        "\n",
        "setTimeout callbacks are placed in the macrotask queue.\n",
        "\n",
        "Promises (.then(), await) go into the microtask queue.\n",
        "\n",
        "The event loop works like this:\n",
        "\n",
        "Run all synchronous code on the call stack.\n",
        "\n",
        "Drain the microtask queue (execute all promise callbacks).\n",
        "\n",
        "Then process one macrotask (e.g., a timeout callback), then repeat.\n",
        "\n",
        "Only after microtasks are cleared does a setTimeout callback run, even if it was scheduled earlier\n",
        "LogRocket Blog\n",
        "DEV Community\n",
        ".\n",
        "\n",
        "A peer explanation summarizes:\n",
        "\n",
        "“Promise callbacks are handled as part of the microtask queue… The microtask queue has higher priority over the task queue.”\n",
        "\n",
        "Similarly:\n",
        "\n",
        "“In each iteration of the event loop: a single task is run; then all microtasks are run; then tasks continue.”\n",
        "reddit.com\n"
      ],
      "metadata": {
        "id": "2deWnqVU57y8"
      },
      "execution_count": null,
      "outputs": []
    }
  ]
}